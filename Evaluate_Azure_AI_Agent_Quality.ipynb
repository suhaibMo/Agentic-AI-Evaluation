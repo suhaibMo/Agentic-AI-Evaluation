{
 "cells": [
  {
   "cell_type": "markdown",
   "metadata": {},
   "source": [
    "# Evaluate AI agents (Azure AI Agent Service) in Azure AI Foundry"
   ]
  },
  {
   "cell_type": "markdown",
   "metadata": {},
   "source": [
    "## Objective\n",
    "\n",
    "\n",
    "This sample demonstrates how to evaluate an AI agent (Azure AI Agent Service) on these important aspects of your agentic workflow:\n",
    "\n",
    "- Intent Resolution: Measures how well the agent identifies the user’s request, including how well it scopes the user’s intent, asks clarifying questions, and reminds end users of its scope of capabilities.\n",
    "- Tool Call Accuracy: Evaluates the agent's ability to select the appropriate tools, and process correct parameters from previous steps.\n",
    "- Task Adherence: Measures how well the agent’s response adheres to its assigned tasks, according to its system message and prior steps.\n",
    "\n",
    "For AI agents outside of Azure AI Agent Service, you can still provide th agent data in the two formats (either simple data or agent messages) specified in the individual evaluator samples:\n",
    "- [Intent resolution](https://aka.ms/intentresolution-sample)\n",
    "- [Tool call accuracy](https://aka.ms/toolcallaccuracy-sample)\n",
    "- [Task adherence](https://aka.ms/taskadherence-sample)\n",
    "- [Response Completeness](https://aka.ms/rescompleteness-sample)\n",
    "\n",
    "\n",
    "\n",
    "## Time \n",
    "\n",
    "You should expect to spend about 20 minutes running this notebook. \n",
    "\n",
    "## Before you begin\n",
    "Creating an agent using Azure AI agent service requires an Azure AI Foundry project and a deployed, supported model. See more details in [Create a new agent](https://learn.microsoft.com/azure/ai-services/agents/quickstart?pivots=ai-foundry-portal).\n",
    "\n",
    "For quality evaluation, you need to deploy a `gpt` model supporting JSON mode. We recommend a model `gpt-4o` or `gpt-4o-mini` for their strong reasoning capabilities.    \n",
    "\n",
    "Important: Make sure to authenticate to Azure using `az login` in your terminal before running this notebook.\n",
    "\n",
    "### Prerequisite\n",
    "\n",
    "Before running the sample:\n",
    "```bash\n",
    "pip install azure-ai-projects azure-identity azure-ai-evaluation\n",
    "```\n",
    "Set these environment variables with your own values:\n",
    "1) **PROJECT_CONNECTION_STRING** - The project connection string, as found in the overview page of your Azure AI Foundry project.\n",
    "2) **MODEL_DEPLOYMENT_NAME** - The deployment name of the model for AI-assisted evaluators, as found under the \"Name\" column in the \"Models + endpoints\" tab in your Azure AI Foundry project.\n",
    "3) **AZURE_OPENAI_ENDPOINT** - Azure Open AI Endpoint to be used for evaluation.\n",
    "4) **AZURE_OPENAI_API_KEY** - Azure Open AI Key to be used for evaluation.\n",
    "5) **AZURE_OPENAI_API_VERSION** - Azure Open AI Api version to be used for evaluation.\n",
    "6) **AZURE_SUBSCRIPTION_ID** - Azure Subscription Id of Azure AI Project\n",
    "7) **PROJECT_NAME** - Azure AI Project Name\n",
    "8) **RESOURCE_GROUP_NAME** - Azure AI Project Resource Group Name\n",
    "9) **AGENT_MODEL_DEPLOYMENT_NAME** - The deployment name of the model for your Azure AI agent, as found under the \"Name\" column in the \"Models + endpoints\" tab in your Azure AI Foundry project."
   ]
  },
  {
   "cell_type": "markdown",
   "metadata": {},
   "source": [
    "### Initializing Project Client"
   ]
  },
  {
   "cell_type": "code",
   "execution_count": 1,
   "metadata": {},
   "outputs": [
    {
     "data": {
      "text/plain": [
       "True"
      ]
     },
     "execution_count": 1,
     "metadata": {},
     "output_type": "execute_result"
    }
   ],
   "source": [
    "import os\n",
    "from pprint import pprint\n",
    "from dotenv import load_dotenv\n",
    "load_dotenv(\".credentials.env\")"
   ]
  },
  {
   "cell_type": "code",
   "execution_count": 3,
   "metadata": {},
   "outputs": [],
   "source": [
    "import os\n",
    "from azure.ai.projects import AIProjectClient\n",
    "from azure.identity import DefaultAzureCredential\n",
    "from azure.ai.projects.models import FunctionTool, ToolSet\n",
    "\n",
    "# Import your custom functions to be used as Tools for the Agent\n",
    "from user_functions import user_functions\n",
    "\n",
    "project_client = AIProjectClient.from_connection_string(\n",
    "    credential=DefaultAzureCredential(),\n",
    "    conn_str=os.environ[\"PROJECT_CONNECTION_STRING\"],\n",
    ")\n",
    "\n",
    "AGENT_NAME = \"London Tourist Assistant\"\n",
    "\n",
    "# Add Tools to be used by Agent\n",
    "functions = FunctionTool(user_functions)\n",
    "\n",
    "toolset = ToolSet()\n",
    "toolset.add(functions)\n"
   ]
  },
  {
   "cell_type": "markdown",
   "metadata": {},
   "source": [
    "### Create an AI agent (Azure AI Agent Service)"
   ]
  },
  {
   "cell_type": "code",
   "execution_count": 4,
   "metadata": {},
   "outputs": [
    {
     "name": "stdout",
     "output_type": "stream",
     "text": [
      "Created agent, ID: asst_RzvvHwmpzGAbqpLtrwOs9oVl\n"
     ]
    }
   ],
   "source": [
    "agent = project_client.agents.create_agent(\n",
    "    model=os.environ[\"AZURE_OPENAI_DEPLOYMENT\"],\n",
    "    name=AGENT_NAME,\n",
    "    instructions=\"You are a helpful assistant\",\n",
    "    toolset=toolset,\n",
    ")\n",
    "\n",
    "print(f\"Created agent, ID: {agent.id}\")"
   ]
  },
  {
   "cell_type": "markdown",
   "metadata": {},
   "source": [
    "### Create Thread"
   ]
  },
  {
   "cell_type": "code",
   "execution_count": 5,
   "metadata": {},
   "outputs": [
    {
     "name": "stdout",
     "output_type": "stream",
     "text": [
      "Created thread, ID: thread_4mtq6nGHV51YCMZEwGdrFOaV\n"
     ]
    }
   ],
   "source": [
    "thread = project_client.agents.create_thread()\n",
    "print(f\"Created thread, ID: {thread.id}\")"
   ]
  },
  {
   "cell_type": "markdown",
   "metadata": {},
   "source": [
    "## Conversation with Agent\n",
    "Use below cells to have conversation with the agent\n",
    "- `Create Message[1]`\n",
    "- `Execute[2]`"
   ]
  },
  {
   "cell_type": "markdown",
   "metadata": {},
   "source": [
    "### Create Message[1]"
   ]
  },
  {
   "cell_type": "code",
   "execution_count": 6,
   "metadata": {},
   "outputs": [
    {
     "name": "stdout",
     "output_type": "stream",
     "text": [
      "Created message, ID: msg_kGkDARPoiycDWUP9XQUO5WRZ\n"
     ]
    }
   ],
   "source": [
    "# Create message to thread\n",
    "\n",
    "MESSAGE = \"Can you email me weather info for London ?\"\n",
    "\n",
    "message = project_client.agents.create_message(\n",
    "    thread_id=thread.id,\n",
    "    role=\"user\",\n",
    "    content=MESSAGE,\n",
    ")\n",
    "print(f\"Created message, ID: {message.id}\")"
   ]
  },
  {
   "cell_type": "markdown",
   "metadata": {},
   "source": [
    "### Execute[2]"
   ]
  },
  {
   "cell_type": "code",
   "execution_count": 7,
   "metadata": {},
   "outputs": [
    {
     "name": "stdout",
     "output_type": "stream",
     "text": [
      "Run finished with status: completed\n",
      "Run ID: run_2WpoeoO2yZk8DBf0QbLTtCW4\n"
     ]
    }
   ],
   "source": [
    "run = project_client.agents.create_and_process_run(thread_id=thread.id, agent_id=agent.id)\n",
    "\n",
    "print(f\"Run finished with status: {run.status}\")\n",
    "\n",
    "if run.status == \"failed\":\n",
    "    print(f\"Run failed: {run.last_error}\")\n",
    "\n",
    "print(f\"Run ID: {run.id}\")"
   ]
  },
  {
   "cell_type": "markdown",
   "metadata": {},
   "source": [
    "### List Messages"
   ]
  },
  {
   "cell_type": "code",
   "execution_count": 8,
   "metadata": {},
   "outputs": [
    {
     "name": "stdout",
     "output_type": "stream",
     "text": [
      "Role: user\n",
      "Content: Can you email me weather info for London ?\n",
      "----------------------------------------\n",
      "Role: assistant\n",
      "Content: To send you the weather information for London, could you please provide me with your email address?\n",
      "----------------------------------------\n"
     ]
    }
   ],
   "source": [
    "for message in project_client.agents.list_messages(thread.id, order=\"asc\").data:\n",
    "    print(f\"Role: {message.role}\")\n",
    "    print(f\"Content: {message.content[0].text.value}\")\n",
    "    print(\"-\" * 40)"
   ]
  },
  {
   "cell_type": "markdown",
   "metadata": {},
   "source": [
    "# Evaluate"
   ]
  },
  {
   "cell_type": "markdown",
   "metadata": {},
   "source": [
    "### Get data from agent"
   ]
  },
  {
   "cell_type": "code",
   "execution_count": 9,
   "metadata": {},
   "outputs": [
    {
     "name": "stderr",
     "output_type": "stream",
     "text": [
      "WARNING:azure.ai.evaluation._common._experimental:Class AIAgentConverter: This is an experimental class, and may change at any time. Please see https://aka.ms/azuremlexperimental for more information.\n"
     ]
    }
   ],
   "source": [
    "from azure.ai.evaluation import AIAgentConverter\n",
    "\n",
    "# Initialize the converter that will be backed by the project.\n",
    "converter = AIAgentConverter(project_client)\n",
    "\n",
    "thread_id = thread.id\n",
    "run_id = run.id\n",
    "file_name = \"evaluation_data.jsonl\"\n",
    "\n",
    "# Get a single agent run data\n",
    "evaluation_data_single_run = converter.convert(thread_id=thread_id, run_id=run_id)\n",
    "\n",
    "# Run this to save thread data to a JSONL file for evaluation\n",
    "# Save the agent thread data to a JSONL file\n",
    "# evaluation_data = converter.prepare_evaluation_data(thread_ids=thread_id, filename=<>)\n",
    "# print(json.dumps(evaluation_data, indent=4))"
   ]
  },
  {
   "cell_type": "markdown",
   "metadata": {},
   "source": [
    "### Setting up evaluator\n",
    "\n",
    "We will select the following evaluators to assess the different aspects relevant for agent quality: \n",
    "\n",
    "- [Intent resolution](https://aka.ms/intentresolution-sample): measures the extent of which an agent identifies the correct intent from a user query. Scale: integer 1-5. Higher is better.\n",
    "- [Tool call accuracy](https://aka.ms/toolcallaccuracy-sample): evaluates the agent’s ability to select the appropriate tools, and process correct parameters from previous steps. Scale: float 0-1. Higher is better.\n",
    "- [Task adherence](https://aka.ms/taskadherence-sample): measures the extent of which an agent’s final response adheres to the task based on its system message and a user query. Scale: integer 1-5. Higher is better.\n"
   ]
  },
  {
   "cell_type": "code",
   "execution_count": 10,
   "metadata": {},
   "outputs": [
    {
     "name": "stderr",
     "output_type": "stream",
     "text": [
      "WARNING:azure.ai.evaluation._common._experimental:Class IntentResolutionEvaluator: This is an experimental class, and may change at any time. Please see https://aka.ms/azuremlexperimental for more information.\n"
     ]
    },
    {
     "name": "stderr",
     "output_type": "stream",
     "text": [
      "WARNING:azure.ai.evaluation._common._experimental:Class ToolCallAccuracyEvaluator: This is an experimental class, and may change at any time. Please see https://aka.ms/azuremlexperimental for more information.\n",
      "WARNING:azure.ai.evaluation._common._experimental:Class TaskAdherenceEvaluator: This is an experimental class, and may change at any time. Please see https://aka.ms/azuremlexperimental for more information.\n"
     ]
    }
   ],
   "source": [
    "from azure.ai.evaluation import (\n",
    "    ToolCallAccuracyEvaluator,\n",
    "    AzureOpenAIModelConfiguration,\n",
    "    IntentResolutionEvaluator,\n",
    "    TaskAdherenceEvaluator,\n",
    ")\n",
    "from pprint import pprint\n",
    "\n",
    "model_config = AzureOpenAIModelConfiguration(\n",
    "    azure_endpoint=os.environ[\"AZURE_OPENAI_ENDPOINT\"],\n",
    "    api_key=os.environ[\"AZURE_OPENAI_API_KEY\"],\n",
    "    api_version=os.environ[\"AZURE_OPENAI_API_VERSION\"],\n",
    "    azure_deployment=os.environ[\"MODEL_DEPLOYMENT_NAME\"],\n",
    ")\n",
    "# Needed to use content safety evaluators\n",
    "azure_ai_project = {\n",
    "    \"subscription_id\": os.environ[\"AZURE_SUBSCRIPTION_ID\"],\n",
    "    \"project_name\": os.environ[\"PROJECT_NAME\"],\n",
    "    \"resource_group_name\": os.environ[\"RESOURCE_GROUP_NAME\"],\n",
    "}\n",
    "\n",
    "intent_resolution = IntentResolutionEvaluator(model_config=model_config)\n",
    "\n",
    "tool_call_accuracy = ToolCallAccuracyEvaluator(model_config=model_config)\n",
    "\n",
    "task_adherence = TaskAdherenceEvaluator(model_config=model_config)"
   ]
  },
  {
   "cell_type": "markdown",
   "metadata": {},
   "source": [
    "### Run Evaluator"
   ]
  },
  {
   "cell_type": "code",
   "execution_count": 11,
   "metadata": {},
   "outputs": [
    {
     "name": "stderr",
     "output_type": "stream",
     "text": [
      "[2025-06-29 20:53:19 +0100][promptflow._core.entry_meta_generator][WARNING] - Generate meta in current process and timeout won't take effect. Please handle timeout manually outside current process.\n",
      "[2025-06-29 20:53:19 +0100][promptflow._core.entry_meta_generator][WARNING] - Generate meta in current process and timeout won't take effect. Please handle timeout manually outside current process.\n",
      "[2025-06-29 20:53:19 +0100][promptflow._core.entry_meta_generator][WARNING] - Generate meta in current process and timeout won't take effect. Please handle timeout manually outside current process.\n",
      "[2025-06-29 20:53:20 +0100][promptflow._sdk._orchestrator.run_submitter][INFO] - Submitting run azure_ai_evaluation_evaluators_tool_call_accuracy_20250629_205318_634930, log path: C:\\Users\\sumohammed\\.promptflow\\.runs\\azure_ai_evaluation_evaluators_tool_call_accuracy_20250629_205318_634930\\logs.txt\n",
      "[2025-06-29 20:53:20 +0100][promptflow._sdk._orchestrator.run_submitter][INFO] - Submitting run azure_ai_evaluation_evaluators_task_adherence_20250629_205318_634930, log path: C:\\Users\\sumohammed\\.promptflow\\.runs\\azure_ai_evaluation_evaluators_task_adherence_20250629_205318_634930\\logs.txt\n",
      "[2025-06-29 20:53:20 +0100][promptflow._sdk._orchestrator.run_submitter][INFO] - Submitting run azure_ai_evaluation_evaluators_intent_resolution_20250629_205318_634930, log path: C:\\Users\\sumohammed\\.promptflow\\.runs\\azure_ai_evaluation_evaluators_intent_resolution_20250629_205318_634930\\logs.txt\n"
     ]
    },
    {
     "name": "stdout",
     "output_type": "stream",
     "text": [
      "2025-06-29 20:53:20 +0100   41148 execution.bulk     INFO     Current thread is not main thread, skip signal handler registration in BatchEngine.\n",
      "2025-06-29 20:53:23 +0100   41148 execution.bulk     INFO     Finished 1 / 5 lines.\n",
      "2025-06-29 20:53:23 +0100   41148 execution.bulk     INFO     Average execution time for completed lines: 3.05 seconds. Estimated time for incomplete lines: 12.2 seconds.\n",
      "2025-06-29 20:53:23 +0100   41148 execution.bulk     INFO     Finished 4 / 5 lines.\n",
      "2025-06-29 20:53:23 +0100   41148 execution.bulk     INFO     Average execution time for completed lines: 0.87 seconds. Estimated time for incomplete lines: 0.87 seconds.\n",
      "2025-06-29 20:53:23 +0100   41148 execution.bulk     INFO     Finished 5 / 5 lines.\n",
      "2025-06-29 20:53:23 +0100   41148 execution.bulk     INFO     Average execution time for completed lines: 0.75 seconds. Estimated time for incomplete lines: 0.0 seconds.\n",
      "======= Run Summary =======\n",
      "\n",
      "Run name: \"azure_ai_evaluation_evaluators_task_adherence_20250629_205318_634930\"\n",
      "Run status: \"Completed\"\n",
      "Start time: \"2025-06-29 20:53:18.668836+01:00\"\n",
      "Duration: \"0:00:05.676154\"\n",
      "Output path: \"C:\\Users\\sumohammed\\.promptflow\\.runs\\azure_ai_evaluation_evaluators_task_adherence_20250629_205318_634930\"\n",
      "\n",
      "2025-06-29 20:53:25 +0100   41148 execution.bulk     INFO     Finished 5 / 5 lines.\n",
      "2025-06-29 20:53:25 +0100   41148 execution.bulk     INFO     Average execution time for completed lines: 1.05 seconds. Estimated time for incomplete lines: 0.0 seconds.\n",
      "2025-06-29 20:53:25 +0100   41148 execution.bulk     INFO     Finished 4 / 5 lines.\n",
      "2025-06-29 20:53:25 +0100   41148 execution.bulk     INFO     Average execution time for completed lines: 1.4 seconds. Estimated time for incomplete lines: 1.4 seconds.\n",
      "2025-06-29 20:53:20 +0100   41148 execution.bulk     INFO     Current thread is not main thread, skip signal handler registration in BatchEngine.\n",
      "2025-06-29 20:53:23 +0100   41148 execution.bulk     INFO     Finished 1 / 5 lines.\n",
      "2025-06-29 20:53:23 +0100   41148 execution.bulk     INFO     Average execution time for completed lines: 3.08 seconds. Estimated time for incomplete lines: 12.32 seconds.\n",
      "2025-06-29 20:53:23 +0100   41148 execution.bulk     INFO     Finished 2 / 5 lines.\n",
      "2025-06-29 20:53:23 +0100   41148 execution.bulk     INFO     Average execution time for completed lines: 1.72 seconds. Estimated time for incomplete lines: 5.16 seconds.\n",
      "2025-06-29 20:53:23 +0100   41148 execution.bulk     INFO     Finished 3 / 5 lines.\n",
      "2025-06-29 20:53:23 +0100   41148 execution.bulk     INFO     Average execution time for completed lines: 1.19 seconds. Estimated time for incomplete lines: 2.38 seconds.\n",
      "2025-06-29 20:53:23 +0100   41148 execution.bulk     INFO     Finished 4 / 5 lines.\n",
      "2025-06-29 20:53:23 +0100   41148 execution.bulk     INFO     Average execution time for completed lines: 0.93 seconds. Estimated time for incomplete lines: 0.93 seconds.\n",
      "2025-06-29 20:53:25 +0100   41148 execution.bulk     INFO     Finished 5 / 5 lines.\n",
      "2025-06-29 20:53:25 +0100   41148 execution.bulk     INFO     Average execution time for completed lines: 1.05 seconds. Estimated time for incomplete lines: 0.0 seconds.\n",
      "======= Run Summary =======\n",
      "\n",
      "Run name: \"azure_ai_evaluation_evaluators_intent_resolution_20250629_205318_634930\"\n",
      "Run status: \"Completed\"\n",
      "Start time: \"2025-06-29 20:53:18.668836+01:00\"\n",
      "Duration: \"0:00:07.634738\"\n",
      "Output path: \"C:\\Users\\sumohammed\\.promptflow\\.runs\\azure_ai_evaluation_evaluators_intent_resolution_20250629_205318_634930\"\n",
      "\n",
      "2025-06-29 20:53:26 +0100   41148 execution.bulk     INFO     Finished 5 / 5 lines.\n",
      "2025-06-29 20:53:26 +0100   41148 execution.bulk     INFO     Average execution time for completed lines: 1.28 seconds. Estimated time for incomplete lines: 0.0 seconds.\n",
      "2025-06-29 20:53:26 +0100   41148 execution          ERROR    1/5 flow run failed, indexes: [2], exception of index 2: (UserError) response does not have tool calls. Either provide tool_calls or response with tool calls.\n"
     ]
    },
    {
     "name": "stderr",
     "output_type": "stream",
     "text": [
      "[2025-06-29 20:53:27 +0100][promptflow._sdk._orchestrator.run_submitter][WARNING] - 1 out of 5 runs failed in batch run.\n",
      " Please check out C:/Users/sumohammed/.promptflow/.runs/azure_ai_evaluation_evaluators_tool_call_accuracy_20250629_205318_634930 for more details.\n"
     ]
    },
    {
     "name": "stdout",
     "output_type": "stream",
     "text": [
      "2025-06-29 20:53:20 +0100   41148 execution.bulk     INFO     Current thread is not main thread, skip signal handler registration in BatchEngine.\n",
      "2025-06-29 20:53:20 +0100   41148 execution.bulk     INFO     Finished 1 / 5 lines.\n",
      "2025-06-29 20:53:20 +0100   41148 execution.bulk     INFO     Average execution time for completed lines: 0.51 seconds. Estimated time for incomplete lines: 2.04 seconds.\n",
      "2025-06-29 20:53:24 +0100   41148 execution.bulk     INFO     Finished 2 / 5 lines.\n",
      "2025-06-29 20:53:24 +0100   41148 execution.bulk     INFO     Average execution time for completed lines: 1.95 seconds. Estimated time for incomplete lines: 5.85 seconds.\n",
      "2025-06-29 20:53:24 +0100   41148 execution.bulk     INFO     Finished 3 / 5 lines.\n",
      "2025-06-29 20:53:24 +0100   41148 execution.bulk     INFO     Average execution time for completed lines: 1.36 seconds. Estimated time for incomplete lines: 2.72 seconds.\n",
      "2025-06-29 20:53:25 +0100   41148 execution.bulk     INFO     Finished 4 / 5 lines.\n",
      "2025-06-29 20:53:25 +0100   41148 execution.bulk     INFO     Average execution time for completed lines: 1.4 seconds. Estimated time for incomplete lines: 1.4 seconds.\n",
      "2025-06-29 20:53:26 +0100   41148 execution.bulk     INFO     Finished 5 / 5 lines.\n",
      "2025-06-29 20:53:26 +0100   41148 execution.bulk     INFO     Average execution time for completed lines: 1.28 seconds. Estimated time for incomplete lines: 0.0 seconds.\n",
      "2025-06-29 20:53:26 +0100   41148 execution          ERROR    1/5 flow run failed, indexes: [2], exception of index 2: (UserError) response does not have tool calls. Either provide tool_calls or response with tool calls.\n",
      "======= Run Summary =======\n",
      "\n",
      "Run name: \"azure_ai_evaluation_evaluators_tool_call_accuracy_20250629_205318_634930\"\n",
      "Run status: \"Completed\"\n",
      "Start time: \"2025-06-29 20:53:18.668836+01:00\"\n",
      "Duration: \"0:00:08.701135\"\n",
      "Output path: \"C:\\Users\\sumohammed\\.promptflow\\.runs\\azure_ai_evaluation_evaluators_tool_call_accuracy_20250629_205318_634930\"\n",
      "\n"
     ]
    },
    {
     "name": "stderr",
     "output_type": "stream",
     "text": [
      "c:\\Users\\sumohammed\\Development\\AI-Agents-Evaluation\\ai_agent_eval3\\lib\\site-packages\\promptflow\\_sdk\\operations\\_local_storage_operations.py:516: FutureWarning: Setting an item of incompatible dtype is deprecated and will raise an error in a future version of pandas. Value '(Failed)' has dtype incompatible with float64, please explicitly cast to a compatible dtype first.\n",
      "  outputs.fillna(value=\"(Failed)\", inplace=True)  # replace nan with explicit prompt\n",
      "c:\\Users\\sumohammed\\Development\\AI-Agents-Evaluation\\ai_agent_eval3\\lib\\site-packages\\azure\\ai\\evaluation\\_evaluate\\_batch_run\\proxy_client.py:76: FutureWarning: Downcasting behavior in `replace` is deprecated and will be removed in a future version. To retain the old behavior, explicitly call `result.infer_objects(copy=False)`. To opt-in to the future behavior, set `pd.set_option('future.no_silent_downcasting', True)`\n",
      "  result_df.replace(\"(Failed)\", math.nan, inplace=True)\n"
     ]
    },
    {
     "name": "stdout",
     "output_type": "stream",
     "text": [
      "======= Combined Run Summary (Per Evaluator) =======\n",
      "\n",
      "{\n",
      "    \"tool_call_accuracy\": {\n",
      "        \"status\": \"Completed with Errors\",\n",
      "        \"duration\": \"0:00:08.701135\",\n",
      "        \"completed_lines\": 4,\n",
      "        \"failed_lines\": 1,\n",
      "        \"log_path\": \"C:\\\\Users\\\\sumohammed\\\\.promptflow\\\\.runs\\\\azure_ai_evaluation_evaluators_tool_call_accuracy_20250629_205318_634930\"\n",
      "    },\n",
      "    \"intent_resolution\": {\n",
      "        \"status\": \"Completed\",\n",
      "        \"duration\": \"0:00:07.634738\",\n",
      "        \"completed_lines\": 5,\n",
      "        \"failed_lines\": 0,\n",
      "        \"log_path\": \"C:\\\\Users\\\\sumohammed\\\\.promptflow\\\\.runs\\\\azure_ai_evaluation_evaluators_intent_resolution_20250629_205318_634930\"\n",
      "    },\n",
      "    \"task_adherence\": {\n",
      "        \"status\": \"Completed\",\n",
      "        \"duration\": \"0:00:05.676154\",\n",
      "        \"completed_lines\": 5,\n",
      "        \"failed_lines\": 0,\n",
      "        \"log_path\": \"C:\\\\Users\\\\sumohammed\\\\.promptflow\\\\.runs\\\\azure_ai_evaluation_evaluators_task_adherence_20250629_205318_634930\"\n",
      "    }\n",
      "}\n",
      "\n",
      "====================================================\n",
      "\n",
      "('AI Foundary URL: '\n",
      " 'https://ai.azure.com/build/evaluation/a9c33cf2-99d8-41cb-8330-bb0cf26de22f?wsid=/subscriptions/687537c9-1139-4975-85ff-c4822c224772/resourceGroups/rg-sumohammed-6118_ai/providers/Microsoft.MachineLearningServices/workspaces/sumohammed-0192')\n"
     ]
    },
    {
     "name": "stdout",
     "output_type": "stream",
     "text": [
      "{'intent_resolution.intent_resolution': 4.4,\n",
      " 'intent_resolution.intent_resolution_threshold': 3.0,\n",
      " 'task_adherence.task_adherence': 3.4,\n",
      " 'task_adherence.task_adherence_threshold': 3.0,\n",
      " 'tool_call_accuracy.tool_call_accuracy': 1.0,\n",
      " 'tool_call_accuracy.tool_call_accuracy_threshold': 0.8}\n"
     ]
    }
   ],
   "source": [
    "from azure.ai.evaluation import evaluate\n",
    "\n",
    "response = evaluate(\n",
    "    data=file_name,\n",
    "    evaluators={\n",
    "        \"tool_call_accuracy\": tool_call_accuracy,\n",
    "        \"intent_resolution\": intent_resolution,\n",
    "        \"task_adherence\": task_adherence,\n",
    "    },\n",
    "    azure_ai_project={\n",
    "        \"subscription_id\": os.environ[\"AZURE_SUBSCRIPTION_ID\"],\n",
    "        \"project_name\": os.environ[\"PROJECT_NAME\"],\n",
    "        \"resource_group_name\": os.environ[\"RESOURCE_GROUP_NAME\"],\n",
    "    },\n",
    ")\n",
    "pprint(f'AI Foundary URL: {response.get(\"studio_url\")}')"
   ]
  },
  {
   "cell_type": "markdown",
   "metadata": {},
   "source": [
    "## Inspect results on Azure AI Foundry\n",
    "\n",
    "Go to AI Foundry URL for rich Azure AI Foundry data visualization to inspect the evaluation scores and reasoning to quickly identify bugs and issues of your agent to fix and improve."
   ]
  },
  {
   "cell_type": "code",
   "execution_count": 12,
   "metadata": {},
   "outputs": [],
   "source": [
    "# alternatively, you can use the following to get the evaluation results in memory\n",
    "\n",
    "# average scores across all runs\n",
    "pprint(response[\"metrics\"])"
   ]
  }
 ],
 "metadata": {
  "kernelspec": {
   "display_name": "ai_agent_eval3",
   "language": "python",
   "name": "python3"
  },
  "language_info": {
   "codemirror_mode": {
    "name": "ipython",
    "version": 3
   },
   "file_extension": ".py",
   "mimetype": "text/x-python",
   "name": "python",
   "nbconvert_exporter": "python",
   "pygments_lexer": "ipython3",
   "version": "3.10.11"
  }
 },
 "nbformat": 4,
 "nbformat_minor": 2
}
